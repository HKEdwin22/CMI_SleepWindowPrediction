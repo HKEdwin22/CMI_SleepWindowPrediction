{
 "cells": [
  {
   "cell_type": "markdown",
   "metadata": {},
   "source": [
    "## Code"
   ]
  },
  {
   "cell_type": "markdown",
   "metadata": {},
   "source": [
    "### Preparing the environment"
   ]
  },
  {
   "cell_type": "code",
   "execution_count": 1,
   "metadata": {},
   "outputs": [],
   "source": [
    "# Import libraries\n",
    "import os\n",
    "import pandas as pd\n",
    "import numpy as np\n",
    "import dtale"
   ]
  },
  {
   "cell_type": "code",
   "execution_count": 2,
   "metadata": {},
   "outputs": [],
   "source": [
    "# Change directory\n",
    "dir_old = os.getcwd()    \n",
    "os.chdir('../../')      # work under \"My Documents\"\n",
    "dir_MyDoc = os.getcwd()\n",
    "target_path = 'DSAI\\Kaggle_Competitions\\CMI_Detect Sleep States\\RawData'\n",
    "os.chdir(os.path.join(dir_MyDoc, target_path))    "
   ]
  },
  {
   "cell_type": "markdown",
   "metadata": {},
   "source": [
    "### Overview of **train_events.csv**\n",
    "First of all we load the file **train_events.csv** and print *df.info()*. The dataset contains five columns, of which two are numeric (night and step), two are categorical (series_id and event) and one is DateTime. The columns “night” and “step” are not continuous data according to the data description on the competition webpage."
   ]
  },
  {
   "cell_type": "code",
   "execution_count": 39,
   "metadata": {},
   "outputs": [
    {
     "name": "stdout",
     "output_type": "stream",
     "text": [
      "<class 'pandas.core.frame.DataFrame'>\n",
      "RangeIndex: 14508 entries, 0 to 14507\n",
      "Data columns (total 5 columns):\n",
      " #   Column     Non-Null Count  Dtype  \n",
      "---  ------     --------------  -----  \n",
      " 0   series_id  14508 non-null  object \n",
      " 1   night      14508 non-null  int64  \n",
      " 2   event      14508 non-null  object \n",
      " 3   step       9585 non-null   float64\n",
      " 4   timestamp  9585 non-null   object \n",
      "dtypes: float64(1), int64(1), object(3)\n",
      "memory usage: 566.8+ KB\n",
      "None\n"
     ]
    }
   ],
   "source": [
    "# Load train_events.csv\n",
    "file = './train_events.csv'\n",
    "df = pd.read_csv(file)\n",
    "print(df.info())"
   ]
  },
  {
   "cell_type": "markdown",
   "metadata": {},
   "source": [
    "Then we run *df.nunique()*, the result shows that the data was collected from 277 accelerometers. There are only two events which are our target classes (i.e. OnSet and WakeUp). With these pieces of information, we conclude that the 277 accelerometers recorded 14508 events in total. Some timesteps have more than one event recorded."
   ]
  },
  {
   "cell_type": "code",
   "execution_count": 4,
   "metadata": {},
   "outputs": [
    {
     "name": "stdout",
     "output_type": "stream",
     "text": [
      "series_id     277\n",
      "night          84\n",
      "event           2\n",
      "step         7499\n",
      "timestamp    9360\n",
      "dtype: int64\n"
     ]
    }
   ],
   "source": [
    "print(df.nunique())"
   ]
  },
  {
   "cell_type": "markdown",
   "metadata": {},
   "source": [
    "### Looking into the details of the data\n",
    "We also run *dtale.show()* and look into the details. \n",
    "The  75th quantile of column “night” is 21. This doesn’t mean that 75% of the accelerometers (samples) recorded 21 nights of data however, since we haven’t grouped the data by the series_id. We will do this and check the number of nights each accelerometer recorded, so that we could identify the number of nights that 75% of accelerometers recorded. This helps us determine the number of samples that need to be removed.\n",
    "The figure below shows the distribution of the target variable “event”. The target variable has a uniform distribution. However, the figure which illustrates the frequency of the events over the step shows that event “wakeup” has three more counts than event “onset”. We need to investigate this contradiction.\n"
   ]
  },
  {
   "cell_type": "code",
   "execution_count": 8,
   "metadata": {},
   "outputs": [
    {
     "name": "stdout",
     "output_type": "stream",
     "text": [
      "http://SkyrimsHammer:40000/dtale/main/1\n"
     ]
    }
   ],
   "source": [
    "d = dtale.show(df)\n",
    "print(d._main_url)"
   ]
  },
  {
   "cell_type": "markdown",
   "metadata": {},
   "source": [
    "### Investigation of the contradictory data on target variable\n",
    "The picture below identifies the accelerometers which recorded odd timesteps. These accelerometers have one day either “onset” or “wakeup” has been recorded as shown in the table. Record  of the corresponding days will not be taken into account of the rest of the project."
   ]
  },
  {
   "cell_type": "code",
   "execution_count": 40,
   "metadata": {},
   "outputs": [
    {
     "name": "stdout",
     "output_type": "stream",
     "text": [
      "series_id\n",
      "0ce74d6d2106    63\n",
      "154fe824ed87    61\n",
      "44a41bba1ee7    23\n",
      "efbfc4526d58     9\n",
      "f8a8da8bdd00    43\n",
      "Name: step, dtype: int64\n"
     ]
    }
   ],
   "source": [
    "# Identify the accelerometers with suspicious records\n",
    "gp = df.groupby('series_id')['step'].count() \n",
    "print(gp[gp % 2 == 1])"
   ]
  },
  {
   "cell_type": "code",
   "execution_count": 41,
   "metadata": {},
   "outputs": [
    {
     "data": {
      "text/html": [
       "<div>\n",
       "<style scoped>\n",
       "    .dataframe tbody tr th:only-of-type {\n",
       "        vertical-align: middle;\n",
       "    }\n",
       "\n",
       "    .dataframe tbody tr th {\n",
       "        vertical-align: top;\n",
       "    }\n",
       "\n",
       "    .dataframe thead th {\n",
       "        text-align: right;\n",
       "    }\n",
       "</style>\n",
       "<table border=\"1\" class=\"dataframe\">\n",
       "  <thead>\n",
       "    <tr style=\"text-align: right;\">\n",
       "      <th></th>\n",
       "      <th>series_id</th>\n",
       "      <th>night</th>\n",
       "      <th>additional event</th>\n",
       "    </tr>\n",
       "  </thead>\n",
       "  <tbody>\n",
       "    <tr>\n",
       "      <th>0</th>\n",
       "      <td>0ce74d6d2106</td>\n",
       "      <td>20</td>\n",
       "      <td>onset</td>\n",
       "    </tr>\n",
       "    <tr>\n",
       "      <th>1</th>\n",
       "      <td>154fe824ed87</td>\n",
       "      <td>30</td>\n",
       "      <td>wakeup</td>\n",
       "    </tr>\n",
       "    <tr>\n",
       "      <th>2</th>\n",
       "      <td>44a41bba1ee7</td>\n",
       "      <td>10</td>\n",
       "      <td>wakeup</td>\n",
       "    </tr>\n",
       "    <tr>\n",
       "      <th>3</th>\n",
       "      <td>efbfc4526d58</td>\n",
       "      <td>7</td>\n",
       "      <td>wakeup</td>\n",
       "    </tr>\n",
       "    <tr>\n",
       "      <th>4</th>\n",
       "      <td>f8a8da8bdd00</td>\n",
       "      <td>17</td>\n",
       "      <td>wakeup</td>\n",
       "    </tr>\n",
       "  </tbody>\n",
       "</table>\n",
       "</div>"
      ],
      "text/plain": [
       "      series_id  night additional event\n",
       "0  0ce74d6d2106     20            onset\n",
       "1  154fe824ed87     30           wakeup\n",
       "2  44a41bba1ee7     10           wakeup\n",
       "3  efbfc4526d58      7           wakeup\n",
       "4  f8a8da8bdd00     17           wakeup"
      ]
     },
     "execution_count": 41,
     "metadata": {},
     "output_type": "execute_result"
    }
   ],
   "source": [
    "target_replace = gp[gp % 2 == 1]\n",
    "df_contradict = pd.DataFrame({'series_id':target_replace.index, \n",
    "                              'night':[20, 30, 10, 7, 17], \n",
    "                              'additional event':['onset', 'wakeup', 'wakeup', 'wakeup', 'wakeup']\n",
    "                              })\n",
    "df_contradict"
   ]
  },
  {
   "cell_type": "markdown",
   "metadata": {},
   "source": [
    "Referencing published research papers, studies required subjects to wear the accelerometer for seven to nine consecutive days. We will conduct statistics on it to determine which would be more suitable for our dataset.\n",
    "\n",
    "| Reference | days |\n",
    "|---|---|\n",
    "| 1,3 | 9 consecutive days |\n",
    "| 4 | 9 specific days |\n",
    "| 2 | 7 consecutive days |"
   ]
  },
  {
   "cell_type": "markdown",
   "metadata": {},
   "source": [
    "### Determining the time interval\n",
    "To achieve this, we first replace the five timesteps which cause the contradictions as mentioned above with null values. Then we identify the nights without records and compute the number of consecutive days an accelerometer collected records."
   ]
  },
  {
   "cell_type": "code",
   "execution_count": 42,
   "metadata": {},
   "outputs": [],
   "source": [
    "# Replace the five timesteps which cause the contradictions\n",
    "for i in df_contradict.index:\n",
    "   sid = df_contradict['series_id'][i]\n",
    "   night = df_contradict['night'][i]\n",
    "   event = df_contradict['additional event'][i]\n",
    "\n",
    "   df.loc[(df['series_id'] == sid) & (df['night'] == night) & (df['event'] == event), 'step'] = np.nan\n",
    "   df.loc[(df['series_id'] == sid) & (df['night'] == night) & (df['event'] == event), 'timestamp'] = np.nan\n",
    "\n",
    "# Delete variables that become unnecessary for the remaining tasks\n",
    "del(target_replace, df_contradict, sid, night, event, i)\n",
    "   \n",
    "# Save the updated dataset into .csv\n",
    "df.to_csv('./train_events_replacement.csv')"
   ]
  },
  {
   "cell_type": "code",
   "execution_count": 56,
   "metadata": {},
   "outputs": [],
   "source": [
    "# Identify nights without records\n",
    "gp = df.groupby('series_id')['step'].count()\n",
    "gp = pd.DataFrame({'sid': gp.index, 'step_num': gp.values})\n",
    "gp['empt_night'] = ''\n",
    "\n",
    "for sid in gp.sid:\n",
    "\n",
    "    # Extract the data for the particular accelerometer\n",
    "    df_temp = df[(df.series_id == sid)]\n",
    "    idx = gp[gp.sid == sid].index[0]\n",
    "    nights = []\n",
    "\n",
    "    # Check if each night has a pair of steps\n",
    "    empty_night = df_temp[df_temp['step'].isna()]['night']\n",
    "    empty_night = empty_night.unique()\n",
    "    gp.at[idx, 'empt_night'] = empty_night.tolist()\n",
    "\n",
    "    # Coding for the number of consecutive days that an accelerometer collected records\n",
    "    max_night = df_temp.groupby('series_id')['night'].max()[0]\n",
    "    gp.at[idx, 'max_night'] = max_night\n",
    "    mt_night = gp[gp.sid == sid]['empt_night'].values[0]\n",
    "\n",
    "    if bool(mt_night) == True:\n",
    "        for i in range(len(mt_night)):\n",
    "            if mt_night[i] != 1:\n",
    "                if i == 0:\n",
    "                    con_night = mt_night[i] - 1\n",
    "                elif i+1 == len(mt_night) and mt_night[i] < max_night:\n",
    "                    con_night = max_night - mt_night[i]\n",
    "                else:\n",
    "                    con_night = mt_night[i] - mt_night[i-1] - 1\n",
    "            nights.append(con_night)\n",
    "\n",
    "        gp.at[idx, 'max_cont_night'] = max(nights)\n",
    "    else:\n",
    "        gp.at[idx, 'max_cont_night'] = max_night\n",
    "\n",
    "# Configure the dtype of numeric data\n",
    "gp['step_num'] = gp['step_num'].astype(np.int8)\n",
    "gp['max_night'] = gp['max_night'].astype(np.int8)\n",
    "gp['max_cont_night'] = gp['max_cont_night'].astype(np.int8)\n",
    "\n",
    "gp.to_csv('./trE_cont_nights.csv')\n",
    "\n",
    "# Look into the new table \"gp\"\n",
    "d = dtale.show(gp)\n",
    "print(d._main_url)\n"
   ]
  },
  {
   "cell_type": "markdown",
   "metadata": {},
   "source": [
    "## References\n",
    "1.\tEstimating sleep parameters using an accelerometer without sleep diary\n",
    "2.\tGenetic studies of accelerometer-based sleep measures yield new insights into human sleep behaviour\n",
    "3.\tA Novel, Open Access Method to Assess Sleep Duration Using a Wrist-Worn Accelerometer\n",
    "4.\tSleep classification from wrist-worn accelerometer data using random forests"
   ]
  }
 ],
 "metadata": {
  "kernelspec": {
   "display_name": "CMI_SleepPrediction",
   "language": "python",
   "name": "python3"
  },
  "language_info": {
   "codemirror_mode": {
    "name": "ipython",
    "version": 3
   },
   "file_extension": ".py",
   "mimetype": "text/x-python",
   "name": "python",
   "nbconvert_exporter": "python",
   "pygments_lexer": "ipython3",
   "version": "3.11.5"
  },
  "orig_nbformat": 4
 },
 "nbformat": 4,
 "nbformat_minor": 2
}
